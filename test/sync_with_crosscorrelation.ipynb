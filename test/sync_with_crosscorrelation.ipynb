{
 "cells": [
  {
   "cell_type": "code",
   "execution_count": 36,
   "id": "magnetic-amino",
   "metadata": {},
   "outputs": [],
   "source": [
    "import numpy as np\n",
    "from numpy.fft import fft, ifft, fft2, ifft2, fftshift\n",
    "from matplotlib import pyplot as plt\n",
    "\n",
    "def cross_correlation_using_fft(x, y):\n",
    "    f1 = fft(x)\n",
    "    \n",
    "    f2 = fft(np.flipud(y))\n",
    "    f2 = fft(y)\n",
    "    f2 = np.conj(f2)\n",
    "    \n",
    "    cc = np.real(ifft(f1 * f2))\n",
    "    return fftshift(cc)\n",
    "    \n",
    "# shift < 0 means that y starts 'shift' time steps before x # shift > 0 means that y starts 'shift' time steps after x\n",
    "def compute_shift(x, y):\n",
    "    assert len(x) == len(y)\n",
    "    c = cross_correlation_using_fft(x, y)\n",
    "    assert len(c) == len(x)\n",
    "    print(c)\n",
    "    print('len : ' + str(len(c)) )\n",
    "    zero_index = int(len(x) / 2) - 1\n",
    "    shift = zero_index - np.argmax(c)\n",
    "    \n",
    "    print(\"arg max : \" + str(np.argmax(c)))\n",
    "    print(\"center : \" + str(zero_index))\n",
    "    print(\"diff : \" + str(shift))\n",
    "    \n",
    "    return shift"
   ]
  },
  {
   "cell_type": "code",
   "execution_count": 37,
   "id": "geological-universe",
   "metadata": {},
   "outputs": [
    {
     "data": {
      "text/plain": [
       "72488"
      ]
     },
     "metadata": {},
     "output_type": "display_data"
    },
    {
     "data": {
      "text/plain": [
       "83456"
      ]
     },
     "metadata": {},
     "output_type": "display_data"
    },
    {
     "name": "stdout",
     "output_type": "stream",
     "text": [
      "short : 65430\n",
      "[ -89808.  -79691. -114470. ...  -54756. -115909. -100727.]\n",
      "len : 32715\n",
      "arg max : 10873\n",
      "center : 16356\n",
      "diff : 5483\n",
      "delay : 5483\n",
      "5483\n",
      "5483\n"
     ]
    },
    {
     "name": "stderr",
     "output_type": "stream",
     "text": [
      "<ipython-input-37-c627ff58679d>:30: DeprecationWarning: Numeric-style type codes are deprecated and will result in an error in the future.\n",
      "  data_1 = np.fromstring(data_1, \"Int16\")\n",
      "<ipython-input-37-c627ff58679d>:30: DeprecationWarning: The binary mode of fromstring is deprecated, as it behaves surprisingly on unicode inputs. Use frombuffer instead\n",
      "  data_1 = np.fromstring(data_1, \"Int16\")\n",
      "<ipython-input-37-c627ff58679d>:31: DeprecationWarning: Numeric-style type codes are deprecated and will result in an error in the future.\n",
      "  data_2 = np.fromstring(data_2, \"Int16\")\n",
      "<ipython-input-37-c627ff58679d>:31: DeprecationWarning: The binary mode of fromstring is deprecated, as it behaves surprisingly on unicode inputs. Use frombuffer instead\n",
      "  data_2 = np.fromstring(data_2, \"Int16\")\n"
     ]
    },
    {
     "data": {
      "image/png": "[encoded data removed]",
      "text/plain": [
       "<Figure size 432x288 with 1 Axes>"
      ]
     },
     "metadata": {
      "needs_background": "light"
     },
     "output_type": "display_data"
    }
   ],
   "source": [
    "import wave\n",
    "\n",
    "#target = wave.open('../test_AEC_1.wav','r')\n",
    "#ref = wave.open('../noise_IU_1ch.wav','r')\n",
    "\n",
    "target = wave.open('../clap_early.wav','r')\n",
    "ref = wave.open('../clap.wav','r')\n",
    "\n",
    "\n",
    "#len_1 = mixed.getnframes()\n",
    "#len_2 = clean.getnframes()\n",
    "\n",
    "data_1 = target.readframes(-1)\n",
    "data_2 = ref.readframes(-1)\n",
    "\n",
    "display(len(data_1))\n",
    "display(len(data_2))\n",
    "\n",
    "short = None\n",
    "if(len(data_1) > len(data_2) ) : \n",
    "    short = len(data_2)\n",
    "else :\n",
    "    short = len(data_1)\n",
    "short = 65430\n",
    "print('short : ' + str(short))    \n",
    "\n",
    "data_1 = data_1[:short]\n",
    "data_2 = data_2[:short]\n",
    "\n",
    "data_1 = np.fromstring(data_1, \"Int16\")\n",
    "data_2 = np.fromstring(data_2, \"Int16\")\n",
    "\n",
    "diff = compute_shift(data_1,data_2)\n",
    "print('delay : ' + str(diff))\n",
    "\n",
    "data_3 = data_1[-diff:]\n",
    "data_4 = data_2[:len(data_3)]\n",
    "print(len(data_3))\n",
    "print(len(data_4))\n",
    "\n",
    "plt.plot(data_3-data_4)\n",
    "plt.show()"
   ]
  },
  {
   "cell_type": "code",
   "execution_count": 30,
   "id": "everyday-valve",
   "metadata": {},
   "outputs": [],
   "source": [
    "xx = [1,2,3,4,5,6]"
   ]
  },
  {
   "cell_type": "code",
   "execution_count": 31,
   "id": "filled-birmingham",
   "metadata": {},
   "outputs": [
    {
     "data": {
      "text/plain": [
       "[1, 2, 3, 4, 5, 6]"
      ]
     },
     "execution_count": 31,
     "metadata": {},
     "output_type": "execute_result"
    }
   ],
   "source": [
    "xx"
   ]
  },
  {
   "cell_type": "code",
   "execution_count": 32,
   "id": "incorrect-closing",
   "metadata": {},
   "outputs": [
    {
     "data": {
      "text/plain": [
       "array([4, 5, 6, 1, 2, 3])"
      ]
     },
     "execution_count": 32,
     "metadata": {},
     "output_type": "execute_result"
    }
   ],
   "source": [
    "fftshift(xx)"
   ]
  },
  {
   "cell_type": "code",
   "execution_count": null,
   "id": "painful-publication",
   "metadata": {},
   "outputs": [],
   "source": []
  }
 ],
 "metadata": {
  "kernelspec": {
   "display_name": "Python 3",
   "language": "python",
   "name": "python3"
  },
  "language_info": {
   "codemirror_mode": {
    "name": "ipython",
    "version": 3
   },
   "file_extension": ".py",
   "mimetype": "text/x-python",
   "name": "python",
   "nbconvert_exporter": "python",
   "pygments_lexer": "ipython3",
   "version": "3.8.0"
  }
 },
 "nbformat": 4,
 "nbformat_minor": 5
}
